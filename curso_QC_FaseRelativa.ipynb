{
  "nbformat": 4,
  "nbformat_minor": 0,
  "metadata": {
    "colab": {
      "provenance": [],
      "collapsed_sections": [
        "GAmPTeyasyVt",
        "euClCkMY-JiC",
        "NAxYzehc-O86",
        "2-LO8wit-QbV"
      ],
      "authorship_tag": "ABX9TyPgDtWpyaieRpwmwyqCsedq",
      "include_colab_link": true
    },
    "kernelspec": {
      "name": "python3",
      "display_name": "Python 3"
    },
    "language_info": {
      "name": "python"
    }
  },
  "cells": [
    {
      "cell_type": "markdown",
      "metadata": {
        "id": "view-in-github",
        "colab_type": "text"
      },
      "source": [
        "<a href=\"https://colab.research.google.com/github/LucioFassarella/COP/blob/main/curso_QC_FaseRelativa.ipynb\" target=\"_parent\"><img src=\"https://colab.research.google.com/assets/colab-badge.svg\" alt=\"Open In Colab\"/></a>"
      ]
    },
    {
      "cell_type": "markdown",
      "source": [
        "# QISKIT\n",
        "\n",
        "---\n",
        "\n",
        "<center><img align = \"center\" src=\"https://drive.google.com/uc?export=view&id=1zn4vH2Rd-JSB4tKEAqeBZ5mPbrQEmy7l\" alt=\"grafo\" width=\"500\"></center>\n",
        "\n",
        "<center>\"You never understand things. You just get used to them.\" (John von Neumann)</center>\n",
        "\n",
        "\n",
        "<font color = \"yellow\">**Qiskit**:</font>\n",
        "*   [Python's Instalation](https://pypi.org/project/qiskit/)\n",
        "*   [IBM Quantum cloud](https://quantum.cloud.ibm.com/)\n",
        "    *   [Qiskit connect](https://cloud.ibm.com/docs/quantum-computing?topic=quantum-computing-get-started) (IBM Runtime Service)\n",
        "       *   [Getting Started](https://cloud.ibm.com/docs/quantum-computing?topic=quantum-computing-get-started)\n",
        "*   [Qiskit](https://docs.quantum.ibm.com/api/qiskit)\n",
        "    *   [Qiskit Circuit Library](https://docs.quantum.ibm.com/api/qiskit/circuit_library)\n",
        "    *   [Qiskit Gates Tutorial](https://github.com/Qiskit/qiskit-tutorials/blob/master/tutorials/circuits/3_summary_of_quantum_operations.ipynb)\n",
        "    *   [List of Quantum Logic Gates](https://en.wikipedia.org/wiki/List_of_quantum_logic_gates)\n",
        "\n",
        "[<font color=\"yellow\">**Execution modes**</font>](https://quantum.cloud.ibm.com/docs/en/guides/execution-modes)\n",
        "*\t[Choose the execution mode](https://quantum.cloud.ibm.com/docs/en/guides/choose-execution-mode)\n",
        "*   [Single Job](https://quantum.cloud.ibm.com/docs/en/guides/primitives-examples#estimator-examples)\n",
        "*\t[Batch mode](https://quantum.cloud.ibm.com/docs/en/guides/run-jobs-batch)\n",
        "*\t[Section mode](https://quantum.cloud.ibm.com/docs/en/guides/run-jobs-session)\n",
        "*\t[Primitives examples](https://quantum.cloud.ibm.com/docs/en/guides/primitives-examples)\n",
        "\n",
        "\n",
        "[<font color=\"yellow\">**Local simulators**</font>](https://quantum.cloud.ibm.com/docs/en/migration-guides/local-simulators)\n",
        "\n",
        "---\n",
        "\n",
        "⏬\n",
        "\n",
        "## <font color = \"orange\">Introdução à Computação Quântica</font>\n",
        "\n",
        "\n",
        "\n",
        "\n",
        "\n"
      ],
      "metadata": {
        "id": "CVwRT-1fcO3d"
      }
    },
    {
      "cell_type": "markdown",
      "source": [
        "# QISKIT: Carregamento"
      ],
      "metadata": {
        "id": "GAmPTeyasyVt"
      }
    },
    {
      "cell_type": "code",
      "source": [
        "!pip install qiskit -U\n",
        "!pip install qiskit_aer -U\n",
        "!pip install qiskit-ibm-runtime -U\n",
        "\n",
        "!pip install matplotlib\n",
        "!pip install pylatexenc\n",
        "\n",
        "import qiskit\n",
        "qiskit.__version__"
      ],
      "metadata": {
        "id": "U7ULPmZkugwv",
        "colab": {
          "base_uri": "https://localhost:8080/",
          "height": 1000
        },
        "outputId": "908adde4-29e9-40c7-e3dc-ceccae5f456d",
        "collapsed": true
      },
      "execution_count": 4,
      "outputs": [
        {
          "output_type": "stream",
          "name": "stdout",
          "text": [
            "Requirement already satisfied: qiskit in /usr/local/lib/python3.12/dist-packages (2.2.1)\n",
            "Requirement already satisfied: rustworkx>=0.15.0 in /usr/local/lib/python3.12/dist-packages (from qiskit) (0.17.1)\n",
            "Requirement already satisfied: numpy<3,>=1.17 in /usr/local/lib/python3.12/dist-packages (from qiskit) (2.0.2)\n",
            "Requirement already satisfied: scipy>=1.5 in /usr/local/lib/python3.12/dist-packages (from qiskit) (1.16.2)\n",
            "Requirement already satisfied: dill>=0.3 in /usr/local/lib/python3.12/dist-packages (from qiskit) (0.3.8)\n",
            "Requirement already satisfied: stevedore>=3.0.0 in /usr/local/lib/python3.12/dist-packages (from qiskit) (5.5.0)\n",
            "Requirement already satisfied: typing-extensions in /usr/local/lib/python3.12/dist-packages (from qiskit) (4.15.0)\n",
            "Requirement already satisfied: qiskit_aer in /usr/local/lib/python3.12/dist-packages (0.17.2)\n",
            "Requirement already satisfied: qiskit>=1.1.0 in /usr/local/lib/python3.12/dist-packages (from qiskit_aer) (2.2.1)\n",
            "Requirement already satisfied: numpy>=1.16.3 in /usr/local/lib/python3.12/dist-packages (from qiskit_aer) (2.0.2)\n",
            "Requirement already satisfied: scipy>=1.0 in /usr/local/lib/python3.12/dist-packages (from qiskit_aer) (1.16.2)\n",
            "Requirement already satisfied: psutil>=5 in /usr/local/lib/python3.12/dist-packages (from qiskit_aer) (5.9.5)\n",
            "Requirement already satisfied: python-dateutil>=2.8.0 in /usr/local/lib/python3.12/dist-packages (from qiskit_aer) (2.9.0.post0)\n",
            "Requirement already satisfied: six>=1.5 in /usr/local/lib/python3.12/dist-packages (from python-dateutil>=2.8.0->qiskit_aer) (1.17.0)\n",
            "Requirement already satisfied: rustworkx>=0.15.0 in /usr/local/lib/python3.12/dist-packages (from qiskit>=1.1.0->qiskit_aer) (0.17.1)\n",
            "Requirement already satisfied: dill>=0.3 in /usr/local/lib/python3.12/dist-packages (from qiskit>=1.1.0->qiskit_aer) (0.3.8)\n",
            "Requirement already satisfied: stevedore>=3.0.0 in /usr/local/lib/python3.12/dist-packages (from qiskit>=1.1.0->qiskit_aer) (5.5.0)\n",
            "Requirement already satisfied: typing-extensions in /usr/local/lib/python3.12/dist-packages (from qiskit>=1.1.0->qiskit_aer) (4.15.0)\n",
            "Requirement already satisfied: qiskit-ibm-runtime in /usr/local/lib/python3.12/dist-packages (0.42.0)\n",
            "Requirement already satisfied: requests>=2.19 in /usr/local/lib/python3.12/dist-packages (from qiskit-ibm-runtime) (2.32.4)\n",
            "Requirement already satisfied: requests-ntlm>=1.1.0 in /usr/local/lib/python3.12/dist-packages (from qiskit-ibm-runtime) (1.3.0)\n",
            "Requirement already satisfied: numpy>=1.13 in /usr/local/lib/python3.12/dist-packages (from qiskit-ibm-runtime) (2.0.2)\n",
            "Requirement already satisfied: urllib3>=1.21.1 in /usr/local/lib/python3.12/dist-packages (from qiskit-ibm-runtime) (2.5.0)\n",
            "Requirement already satisfied: python-dateutil>=2.8.0 in /usr/local/lib/python3.12/dist-packages (from qiskit-ibm-runtime) (2.9.0.post0)\n",
            "Requirement already satisfied: ibm-platform-services>=0.22.6 in /usr/local/lib/python3.12/dist-packages (from qiskit-ibm-runtime) (0.69.0)\n",
            "Requirement already satisfied: pydantic>=2.5.0 in /usr/local/lib/python3.12/dist-packages (from qiskit-ibm-runtime) (2.11.9)\n",
            "Requirement already satisfied: qiskit>=1.4.1 in /usr/local/lib/python3.12/dist-packages (from qiskit-ibm-runtime) (2.2.1)\n",
            "Requirement already satisfied: packaging in /usr/local/lib/python3.12/dist-packages (from qiskit-ibm-runtime) (25.0)\n",
            "Requirement already satisfied: ibm_cloud_sdk_core<4.0.0,>=3.24.2 in /usr/local/lib/python3.12/dist-packages (from ibm-platform-services>=0.22.6->qiskit-ibm-runtime) (3.24.2)\n",
            "Requirement already satisfied: annotated-types>=0.6.0 in /usr/local/lib/python3.12/dist-packages (from pydantic>=2.5.0->qiskit-ibm-runtime) (0.7.0)\n",
            "Requirement already satisfied: pydantic-core==2.33.2 in /usr/local/lib/python3.12/dist-packages (from pydantic>=2.5.0->qiskit-ibm-runtime) (2.33.2)\n",
            "Requirement already satisfied: typing-extensions>=4.12.2 in /usr/local/lib/python3.12/dist-packages (from pydantic>=2.5.0->qiskit-ibm-runtime) (4.15.0)\n",
            "Requirement already satisfied: typing-inspection>=0.4.0 in /usr/local/lib/python3.12/dist-packages (from pydantic>=2.5.0->qiskit-ibm-runtime) (0.4.2)\n",
            "Requirement already satisfied: six>=1.5 in /usr/local/lib/python3.12/dist-packages (from python-dateutil>=2.8.0->qiskit-ibm-runtime) (1.17.0)\n",
            "Requirement already satisfied: rustworkx>=0.15.0 in /usr/local/lib/python3.12/dist-packages (from qiskit>=1.4.1->qiskit-ibm-runtime) (0.17.1)\n",
            "Requirement already satisfied: scipy>=1.5 in /usr/local/lib/python3.12/dist-packages (from qiskit>=1.4.1->qiskit-ibm-runtime) (1.16.2)\n",
            "Requirement already satisfied: dill>=0.3 in /usr/local/lib/python3.12/dist-packages (from qiskit>=1.4.1->qiskit-ibm-runtime) (0.3.8)\n",
            "Requirement already satisfied: stevedore>=3.0.0 in /usr/local/lib/python3.12/dist-packages (from qiskit>=1.4.1->qiskit-ibm-runtime) (5.5.0)\n",
            "Requirement already satisfied: charset_normalizer<4,>=2 in /usr/local/lib/python3.12/dist-packages (from requests>=2.19->qiskit-ibm-runtime) (3.4.3)\n",
            "Requirement already satisfied: idna<4,>=2.5 in /usr/local/lib/python3.12/dist-packages (from requests>=2.19->qiskit-ibm-runtime) (3.10)\n",
            "Requirement already satisfied: certifi>=2017.4.17 in /usr/local/lib/python3.12/dist-packages (from requests>=2.19->qiskit-ibm-runtime) (2025.8.3)\n",
            "Requirement already satisfied: cryptography>=1.3 in /usr/local/lib/python3.12/dist-packages (from requests-ntlm>=1.1.0->qiskit-ibm-runtime) (43.0.3)\n",
            "Requirement already satisfied: pyspnego>=0.4.0 in /usr/local/lib/python3.12/dist-packages (from requests-ntlm>=1.1.0->qiskit-ibm-runtime) (0.12.0)\n",
            "Requirement already satisfied: cffi>=1.12 in /usr/local/lib/python3.12/dist-packages (from cryptography>=1.3->requests-ntlm>=1.1.0->qiskit-ibm-runtime) (2.0.0)\n",
            "Requirement already satisfied: PyJWT<3.0.0,>=2.10.1 in /usr/local/lib/python3.12/dist-packages (from ibm_cloud_sdk_core<4.0.0,>=3.24.2->ibm-platform-services>=0.22.6->qiskit-ibm-runtime) (2.10.1)\n",
            "Requirement already satisfied: pycparser in /usr/local/lib/python3.12/dist-packages (from cffi>=1.12->cryptography>=1.3->requests-ntlm>=1.1.0->qiskit-ibm-runtime) (2.23)\n",
            "Requirement already satisfied: matplotlib in /usr/local/lib/python3.12/dist-packages (3.10.0)\n",
            "Requirement already satisfied: contourpy>=1.0.1 in /usr/local/lib/python3.12/dist-packages (from matplotlib) (1.3.3)\n",
            "Requirement already satisfied: cycler>=0.10 in /usr/local/lib/python3.12/dist-packages (from matplotlib) (0.12.1)\n",
            "Requirement already satisfied: fonttools>=4.22.0 in /usr/local/lib/python3.12/dist-packages (from matplotlib) (4.60.1)\n",
            "Requirement already satisfied: kiwisolver>=1.3.1 in /usr/local/lib/python3.12/dist-packages (from matplotlib) (1.4.9)\n",
            "Requirement already satisfied: numpy>=1.23 in /usr/local/lib/python3.12/dist-packages (from matplotlib) (2.0.2)\n",
            "Requirement already satisfied: packaging>=20.0 in /usr/local/lib/python3.12/dist-packages (from matplotlib) (25.0)\n",
            "Requirement already satisfied: pillow>=8 in /usr/local/lib/python3.12/dist-packages (from matplotlib) (11.3.0)\n",
            "Requirement already satisfied: pyparsing>=2.3.1 in /usr/local/lib/python3.12/dist-packages (from matplotlib) (3.2.5)\n",
            "Requirement already satisfied: python-dateutil>=2.7 in /usr/local/lib/python3.12/dist-packages (from matplotlib) (2.9.0.post0)\n",
            "Requirement already satisfied: six>=1.5 in /usr/local/lib/python3.12/dist-packages (from python-dateutil>=2.7->matplotlib) (1.17.0)\n",
            "Requirement already satisfied: pylatexenc in /usr/local/lib/python3.12/dist-packages (2.10)\n"
          ]
        },
        {
          "output_type": "execute_result",
          "data": {
            "text/plain": [
              "'2.2.1'"
            ],
            "application/vnd.google.colaboratory.intrinsic+json": {
              "type": "string"
            }
          },
          "metadata": {},
          "execution_count": 4
        }
      ]
    },
    {
      "cell_type": "code",
      "source": [
        "from qiskit_ibm_runtime import QiskitRuntimeService\n",
        "\n",
        "# Conecção com a IBM\n",
        "\n",
        "token_privado = \"...\" # <-- Inserir token privado na IBM\n",
        "instance_do_projeto = \"...\" # <-- Inserir instance do projeto\n",
        "\n",
        "from qiskit_ibm_runtime import QiskitRuntimeService\n",
        "service = QiskitRuntimeService(\n",
        "    channel=\"ibm_cloud\",\n",
        "    token = token_privado,\n",
        "    instance = instance_do_projeto\n",
        "    )\n",
        "\n",
        "## Save account to disk and save it as the default.\n",
        "#QiskitRuntimeService.save_account(channel=\"ibm_cloud\", token=\"<IBM Cloud API key>\", instance=\"<IBM Cloud CRN>\", name=\"account-name\", set_as_default=True)\n",
        "\n",
        "## Load the saved credentials\n",
        "#service = QiskitRuntimeService(name=\"account-name\")"
      ],
      "metadata": {
        "id": "LSjNYkT2XfWI",
        "colab": {
          "base_uri": "https://localhost:8080/"
        },
        "outputId": "83bd0914-4c54-4a0d-d8f9-244376164830"
      },
      "execution_count": 5,
      "outputs": [
        {
          "output_type": "stream",
          "name": "stderr",
          "text": [
            "qiskit_runtime_service._discover_account:WARNING:2025-10-06 16:54:14,725: Loading account with the given token. A saved account will not be used.\n"
          ]
        }
      ]
    },
    {
      "cell_type": "code",
      "source": [
        "## Backend fake\n",
        "from qiskit_ibm_runtime.fake_provider import FakeBrisbane\n",
        "backend = FakeBrisbane() # FakeBrisbane(): 127 qubits. Mais fake backends: 'https://quantum.cloud.ibm.com/docs/en/api/qiskit-ibm-runtime/fake-provider'\n"
      ],
      "metadata": {
        "id": "pllY1ci7nD2P"
      },
      "execution_count": 19,
      "outputs": []
    },
    {
      "cell_type": "code",
      "source": [
        "# Qiskit: métodos básicos\n",
        "\n",
        "from qiskit import QuantumCircuit, ClassicalRegister, QuantumRegister\n",
        "\n",
        "from qiskit import transpile\n",
        "\n",
        "from qiskit.visualization import plot_histogram, array_to_latex, plot_state_city"
      ],
      "metadata": {
        "id": "9L6AJpSGOM09"
      },
      "execution_count": 6,
      "outputs": []
    },
    {
      "cell_type": "markdown",
      "source": [
        "# Método de Primitivos\n",
        "\n"
      ],
      "metadata": {
        "id": "oC-0NL8MAlcy"
      }
    },
    {
      "cell_type": "code",
      "source": [
        "def qiskit_sampler(circuito_com_medidas, shots = None, backend = None):\n",
        "    '''\n",
        "    Método para executar o Sampler\n",
        "    >>> O Sampler realiza medidas em circuitos quânticos e retorna a contagem de qubits.\n",
        "        A partir dos resultados do Sampler, podemos estimar as probabilidade de cada resultado.\n",
        "\n",
        "    Input:\n",
        "        circuito : circuito quântico que prepara um estado de qubits\n",
        "        backend  : backend para rodar o Sampler\n",
        "\n",
        "    Saída:\n",
        "        resultado do Sampler\n",
        "\n",
        "    Observação: os resultados do Sampler são rotulados pelo nomes dos registros clássicos.\n",
        "                Para um circuito com medidas definidas por 'measure_all', o rótulo é 'meas'.\n",
        "                Para circuitos com medidas definidas de início sem denominação explícita,\n",
        "                os rótulos são 'c', 'c1', 'c2', etc.\n",
        "\n",
        "    Tutorial do SamplerV2: https://quantum.cloud.ibm.com/docs/en/api/qiskit-ibm-runtime/sampler-v2\n",
        "    '''\n",
        "\n",
        "    # Importação de métodos e backend\n",
        "\n",
        "    from qiskit_ibm_runtime import SamplerV2 as Sampler\n",
        "\n",
        "    if backend is None:\n",
        "        from qiskit_ibm_runtime.fake_provider import FakeBrisbane\n",
        "        backend = FakeBrisbane()\n",
        "    else:\n",
        "        backend = backend\n",
        "\n",
        "    from qiskit.transpiler import generate_preset_pass_manager\n",
        "    pm = generate_preset_pass_manager(optimization_level=2, backend = backend)\n",
        "\n",
        "    # Transpilação\n",
        "\n",
        "    isa_circuitos = pm.run(circuito_com_medidas)\n",
        "\n",
        "    if shots is None:\n",
        "        shots = 2**10\n",
        "    else:\n",
        "        shots = shots\n",
        "\n",
        "    sampler = Sampler(backend)\n",
        "    job = sampler.run([(isa_circuitos, )], shots = shots)\n",
        "    result = job.result()\n",
        "    counts = result[0].data['c'].get_counts()\n",
        "\n",
        "    return counts, result"
      ],
      "metadata": {
        "id": "L9MQPabXAtec"
      },
      "execution_count": 7,
      "outputs": []
    },
    {
      "cell_type": "code",
      "source": [
        "'''\n",
        "Teste\n",
        "'''\n",
        "\n",
        "qc = QuantumCircuit(2,2)\n",
        "qc.h(0)\n",
        "qc.cx(0,1)\n",
        "qc.measure([0,1],[0,1])\n",
        "print(qc)\n",
        "\n",
        "resultado = qiskit_sampler(qc)\n",
        "resultado"
      ],
      "metadata": {
        "id": "6yGatCjs5rBr",
        "colab": {
          "base_uri": "https://localhost:8080/"
        },
        "outputId": "f8807214-c561-4bac-a894-2d46c4a85575"
      },
      "execution_count": 8,
      "outputs": [
        {
          "output_type": "stream",
          "name": "stdout",
          "text": [
            "     ┌───┐     ┌─┐   \n",
            "q_0: ┤ H ├──■──┤M├───\n",
            "     └───┘┌─┴─┐└╥┘┌─┐\n",
            "q_1: ─────┤ X ├─╫─┤M├\n",
            "          └───┘ ║ └╥┘\n",
            "c: 2/═══════════╩══╩═\n",
            "                0  1 \n"
          ]
        },
        {
          "output_type": "execute_result",
          "data": {
            "text/plain": [
              "({'00': 480, '11': 522, '01': 15, '10': 7},\n",
              " PrimitiveResult([SamplerPubResult(data=DataBin(c=BitArray(<shape=(), num_shots=1024, num_bits=2>)), metadata={'shots': 1024, 'circuit_metadata': {}})], metadata={'version': 2}))"
            ]
          },
          "metadata": {},
          "execution_count": 8
        }
      ]
    },
    {
      "cell_type": "code",
      "source": [
        "def qiskit_estimator(circuito_sem_medidas, hamiltoniano, precisao = None, backend = None):\n",
        "    '''\n",
        "    Método para executar o Estimator\n",
        "    >>> O Estimator estima valores esperados de circuitos e observáveis.\n",
        "\n",
        "    Input:\n",
        "        circuito : circuito quântico que prepara um estado de qubits\n",
        "        hamiltoniano (SparsePauliOp): hamiltoniano a ser medido\n",
        "        precisao (float): precisão do resultado\n",
        "        backend  : backend para rodar o Estimator\n",
        "\n",
        "    Saída:\n",
        "        resultado do Estimator\n",
        "\n",
        "    Tutorial do EstimatorV2: https://quantum.cloud.ibm.com/docs/en/api/qiskit-ibm-runtime/estimator-v2\n",
        "    '''\n",
        "\n",
        "    # Importação de métodos e backend\n",
        "\n",
        "    from qiskit_ibm_runtime import EstimatorV2 as Estimator\n",
        "    from qiskit.transpiler import generate_preset_pass_manager\n",
        "\n",
        "    # Use the existing service object\n",
        "    # service = QiskitRuntimeService()\n",
        "    if backend is None:\n",
        "        from qiskit_ibm_runtime.fake_provider import FakeBrisbane\n",
        "        backend = FakeBrisbane()\n",
        "    else:\n",
        "        backend = backend\n",
        "\n",
        "    if precisao is None:\n",
        "        precisao = 2**(-10)\n",
        "    else:\n",
        "        precisao = precisao\n",
        "\n",
        "    # Transpilação\n",
        "\n",
        "    pm = generate_preset_pass_manager(backend = backend, optimization_level=1)\n",
        "    isa_circuito = pm.run(circuito_sem_medidas)\n",
        "    isa_hamiltoniano = hamiltoniano.apply_layout(isa_circuito.layout)\n",
        "\n",
        "    # Estimator:\n",
        "\n",
        "    estimator = Estimator(mode=backend)\n",
        "\n",
        "    # Job\n",
        "    job = estimator.run([(isa_circuito, isa_hamiltoniano, )])\n",
        "    pub_result = job.result()[0]\n",
        "\n",
        "    return pub_result.data.evs"
      ],
      "metadata": {
        "id": "3njFNKI_ZrdT"
      },
      "execution_count": 9,
      "outputs": []
    },
    {
      "cell_type": "code",
      "source": [
        "'''\n",
        "Teste\n",
        "'''\n",
        "\n",
        "\n",
        "qc = QuantumCircuit(2,2)\n",
        "qc.h(0)\n",
        "qc.cx(0,1)\n",
        "print(qc)\n",
        "\n",
        "from qiskit.quantum_info import SparsePauliOp\n",
        "hamiltoniano = SparsePauliOp.from_list([(\"II\", 1), (\"IZ\", 2), (\"XI\", 3)])\n",
        "print(f\"Hamiltoniano: {hamiltoniano}\")\n",
        "\n",
        "precisao = 2**(-10)\n",
        "print(f\"Precisão: {precisao}\")\n",
        "\n",
        "resultado = qiskit_estimator(qc, hamiltoniano, precisao)\n",
        "display(f\"Valor esperado: {resultado}\")"
      ],
      "metadata": {
        "colab": {
          "base_uri": "https://localhost:8080/",
          "height": 208
        },
        "id": "dGJbGCJ_dq4T",
        "outputId": "01044fa2-66b5-4a26-98e2-3ddd04aa2c2a"
      },
      "execution_count": 11,
      "outputs": [
        {
          "output_type": "stream",
          "name": "stdout",
          "text": [
            "     ┌───┐     \n",
            "q_0: ┤ H ├──■──\n",
            "     └───┘┌─┴─┐\n",
            "q_1: ─────┤ X ├\n",
            "          └───┘\n",
            "c: 2/══════════\n",
            "               \n",
            "Hamiltoniano: SparsePauliOp(['II', 'IZ', 'XI'],\n",
            "              coeffs=[1.+0.j, 2.+0.j, 3.+0.j])\n",
            "Precisão: 0.0009765625\n"
          ]
        },
        {
          "output_type": "display_data",
          "data": {
            "text/plain": [
              "'Valor esperado: 1.01513671875'"
            ],
            "application/vnd.google.colaboratory.intrinsic+json": {
              "type": "string"
            }
          },
          "metadata": {}
        }
      ]
    },
    {
      "cell_type": "markdown",
      "source": [
        "# Experimentos com Fase Relativa\n",
        "\n",
        "<font color=\"yellow\">Estado:</font>\n",
        "\n",
        "$$\n",
        "\\begin{split}\n",
        "| \\psi (\\theta) \\rangle &= \\frac{|0 \\rangle + e^{i\\theta}|1\\rangle}{\\sqrt{2}} =P(\\theta) H |0\\rangle),\n",
        "\\end{split}\n",
        "$$\n",
        "onde\n",
        "$$\n",
        "H = \\frac{1}{\\sqrt{2}}\n",
        "\\begin{pmatrix}\n",
        "1 & 1 \\\\\n",
        "1 & -1\n",
        "\\end{pmatrix},\\\n",
        "\\\n",
        "P(\\theta) =\n",
        "\\begin{pmatrix}\n",
        "1 & 0 \\\\\n",
        "0 & e^{i\\theta}\n",
        "\\end{pmatrix}.\n",
        "$$\n",
        "<font color=\"yellow\">\n",
        "Medida na base computacional (de auto-estados de $Z$):</font>\n",
        "$$\n",
        "\\begin{split}\n",
        "P_Z( 0 \\vert \\psi(\\theta)) &= |\\langle 0 | \\psi(\\theta) \\rangle|^2 = 1/2.\\\\\n",
        "P_Z( 1 \\vert \\psi(\\theta)) &= |\\langle 1 | \\psi(\\theta) \\rangle|^2 = 1/2.\n",
        "\\end{split}\n",
        "$$\n",
        "\n",
        "Verifica-se duas condições necessárias de uma probabilidade:\n",
        "$$\n",
        "P_X(+ \\vert \\psi(\\theta)), P_X(- \\vert \\psi(\\theta)) \\in \\left\\lbrack 0,1 \\right\\rbrack\n",
        "$$\n",
        "e\n",
        "$$\n",
        "P_X(+ \\vert \\psi(\\theta)) + P_X(- \\vert \\psi(\\theta))= 1.\n",
        "$$\n",
        "Cabe observar que as probabilidades não dependem da fase relativa $\\theta$.\n",
        "\n",
        "$\\star$\n",
        "\n",
        "<font color=\"yellow\">Medida na base $\\left\\{ |+\\rangle, |-\\rangle \\right\\}$ (de auto-estados de $X$):</font>\n",
        "$$\n",
        "\\begin{split}\n",
        "P_X(+ \\vert \\psi(\\theta)) &= |\\langle + | \\psi(\\theta) \\rangle|^2 \\\\\n",
        "&= \\left\\vert \\left(\\frac{ \\langle 0|  + \\langle 1|}{\\sqrt{2}}\\right) \\left(\\frac{|0 \\rangle + e^{i\\theta}|1\\rangle}{\\sqrt{2}}\\right)\\right\\vert^2\\\\\n",
        "&= \\frac{1}{4}\\left\\vert \\langle 0| 0 \\rangle + e^{i\\theta}\\langle 0 | 1 \\rangle  + \\langle 1| 0 \\rangle + e^{i\\theta} \\langle 1 |1\\rangle \\right\\vert^2\\\\\n",
        "&= \\frac{1}{4} \\left\\vert 1 + e^{i\\theta} \\right\\vert^2 \\\\\n",
        "&= \\frac{1}{4}  \\left\\vert 1 + \\cos(\\theta) + i \\sin(\\theta) \\right\\vert^2\\\\\n",
        "&= \\frac{1 + \\cos(\\theta)}{2}.\n",
        "\\end{split}\n",
        "$$\n",
        "e\n",
        "\n",
        "$$\n",
        "\\begin{split}\n",
        "P_X(- \\vert \\psi(\\theta)) &= |\\langle - | \\psi(\\theta) \\rangle|^2 \\\\\n",
        "&= \\left\\vert \\left(\\frac{ \\langle 0|  - \\langle 1|}{\\sqrt{2}}\\right) \\left(\\frac{|0 \\rangle + e^{i\\theta}|1\\rangle}{\\sqrt{2}}\\right)\\right\\vert^2\\\\\n",
        "&= \\frac{1}{4}\\left\\vert \\langle 0| 0 \\rangle + e^{i\\theta}\\langle 0 | 1 \\rangle  - \\langle 1| 0 \\rangle - e^{i\\theta} \\langle 1 |1\\rangle \\right\\vert^2\\\\\n",
        "&= \\frac{1}{4} \\left\\vert 1 - e^{i\\theta} \\right\\vert^2 \\\\\n",
        "&= \\frac{1}{4}  \\left\\vert 1 - \\cos(\\theta) - i \\sin(\\theta) \\right\\vert^2\\\\\n",
        "&= \\frac{1 - \\cos(\\theta)}{2}.\n",
        "\\end{split}\n",
        "$$\n",
        "\n",
        "Verifica-se duas condições necessárias de uma probabilidade:\n",
        "$$\n",
        "P_X(+ \\vert \\psi(\\theta)), P_X(- \\vert \\psi(\\theta)) \\in \\left\\lbrack 0,1 \\right\\rbrack\n",
        "$$\n",
        "e\n",
        "$$\n",
        "P_X(+ \\vert \\psi(\\theta)) + P_X(- \\vert \\psi(\\theta))= 1.\n",
        "$$\n",
        "Cabe observar que as probabilidades agora dependerem da fase relativa $\\theta$:"
      ],
      "metadata": {
        "id": "X-p0fBNxezR2"
      }
    },
    {
      "cell_type": "markdown",
      "source": [
        "## Medida de $|\\psi(\\theta) \\rangle>$ na base computacional $\\left\\{|0\\rangle , |1\\rangle \\right\\}$:\n",
        "\n",
        "$\\rightarrow$ O resultado não depende de $\\theta$."
      ],
      "metadata": {
        "id": "jZGY83ki4Kdu"
      }
    },
    {
      "cell_type": "code",
      "source": [
        "# Experimentos com o Sampler: Medida na base { |0>, |1>}\n",
        "\n",
        "import numpy as np\n",
        "\n",
        "th = 0.1#np.pi/2\n",
        "qc = QuantumCircuit(1,1)\n",
        "qc.h(0)\n",
        "qc.p(th,0)\n",
        "qc.measure([0],[0])\n",
        "\n",
        "print(\"Circuito que prepara o estado | psi >:\")\n",
        "display(qc.draw('mpl'))"
      ],
      "metadata": {
        "colab": {
          "base_uri": "https://localhost:8080/",
          "height": 208
        },
        "id": "S-G1bmwekz_F",
        "outputId": "281221d2-9fc3-41e4-a3e0-9863369979c2"
      },
      "execution_count": 46,
      "outputs": [
        {
          "output_type": "stream",
          "name": "stdout",
          "text": [
            "Circuito que prepara o estado | psi >:\n"
          ]
        },
        {
          "output_type": "display_data",
          "data": {
            "text/plain": [
              "<Figure size 352.675x200.667 with 1 Axes>"
            ],
            "image/png": "[encoded data removed]"
          },
          "metadata": {}
        }
      ]
    },
    {
      "cell_type": "code",
      "source": [
        "# Experimento\n",
        "medida = qiskit_sampler(qc, shots = 2**8, backend = FakeBrisbane())\n",
        "print(f\"Medida: {medida}\")\n",
        "\n",
        "resultado = medida[0]\n",
        "print(f\"Resultado: {resultado}\")\n",
        "\n",
        "prob_0 = resultado.get('0', 0) / sum(resultado.values())\n",
        "print(f\"Probabilidade de medir |0>: {prob_0}\")\n",
        "prob_1 = resultado.get('1', 0) / sum(resultado.values())\n",
        "print(f\"Probabilidade de medir |1>: {prob_1}\")\n",
        "#\n",
        "\n",
        "plot_histogram(resultado)"
      ],
      "metadata": {
        "colab": {
          "base_uri": "https://localhost:8080/",
          "height": 576
        },
        "id": "cJRRFhcAnmlV",
        "outputId": "7ac31318-c9df-482e-cdbb-778a43ca0679"
      },
      "execution_count": 47,
      "outputs": [
        {
          "output_type": "stream",
          "name": "stdout",
          "text": [
            "Medida: ({'0': 124, '1': 132}, PrimitiveResult([SamplerPubResult(data=DataBin(c=BitArray(<shape=(), num_shots=256, num_bits=1>)), metadata={'shots': 256, 'circuit_metadata': {}})], metadata={'version': 2}))\n",
            "Resultado: {'0': 124, '1': 132}\n",
            "Probabilidade de medir |0>: 0.484375\n",
            "Probabilidade de medir |1>: 0.515625\n"
          ]
        },
        {
          "output_type": "execute_result",
          "data": {
            "text/plain": [
              "<Figure size 640x480 with 1 Axes>"
            ],
            "image/png": "[encoded data removed]"
          },
          "metadata": {},
          "execution_count": 47
        }
      ]
    },
    {
      "cell_type": "code",
      "source": [
        "# Função\n",
        "\n",
        "def probabilidadeZ_psi(th):\n",
        "    qc = QuantumCircuit(1,1)\n",
        "    qc.h(0)\n",
        "    qc.p(th,0)\n",
        "    qc.measure([0],[0])\n",
        "\n",
        "    medida = qiskit_sampler(qc, shots = 2**10, backend = FakeBrisbane())\n",
        "\n",
        "    resultado = medida[0]\n",
        "    prob_0 = resultado.get('0', 0) / sum(resultado.values())\n",
        "    prob_1 = resultado.get('1', 0) / sum(resultado.values())\n",
        "\n",
        "    return (prob_0,prob_1)"
      ],
      "metadata": {
        "id": "-POcLed1p6Ja"
      },
      "execution_count": 49,
      "outputs": []
    },
    {
      "cell_type": "code",
      "source": [
        "import matplotlib.pyplot as plt\n",
        "import numpy as np\n",
        "\n",
        "# Create a range of theta values\n",
        "theta_values = np.linspace(0, 2 * np.pi, 10)\n",
        "\n",
        "# Calculate the probability of measuring |0> for each theta value\n",
        "prob_0, prob_1 = zip(*[probabilidadeZ_psi(theta) for theta in theta_values])\n",
        "\n",
        "# Plot the results\n",
        "plt.plot(theta_values, prob_0)\n",
        "plt.plot(theta_values, prob_1)\n",
        "plt.ylim(0, 1)\n",
        "plt.xlabel(\"Theta (radianos)\")\n",
        "plt.ylabel(\"Probabilidade de medir |0> e |1>\")\n",
        "plt.title(\"Probabilidade de medir |0> e |1> no estado |psi(theta)>\")\n",
        "plt.grid(True)\n",
        "plt.show()"
      ],
      "metadata": {
        "colab": {
          "base_uri": "https://localhost:8080/",
          "height": 472
        },
        "id": "6NT6pJZPqSkd",
        "outputId": "fe2c34db-ba57-4bb5-ff65-67af64d66907"
      },
      "execution_count": 50,
      "outputs": [
        {
          "output_type": "display_data",
          "data": {
            "text/plain": [
              "<Figure size 640x480 with 1 Axes>"
            ],
            "image/png": "[encoded data removed]"
          },
          "metadata": {}
        }
      ]
    },
    {
      "cell_type": "markdown",
      "source": [
        "## Medida de $|\\psi(\\theta) \\rangle>$ na base de $X$, $\\left\\{|+\\rangle , |-\\rangle \\right\\}$:\n",
        "\n",
        "$\\rightarrow$ O resultado depende de $\\theta$."
      ],
      "metadata": {
        "id": "7KUlP7Mw4aWZ"
      }
    },
    {
      "cell_type": "code",
      "source": [
        "# Experimentos com o Sampler: Medida na base { |+>, |->}\n",
        "\n",
        "\n",
        "import numpy as np\n",
        "\n",
        "th = np.pi/4\n",
        "qc = QuantumCircuit(1,1)\n",
        "qc.h(0)\n",
        "qc.p(th,0)\n",
        "qc.barrier()\n",
        "qc.h(0) # <-- Porta para medir na base {|+>,|->}\n",
        "qc.measure([0],[0])\n",
        "\n",
        "print(\"Circuito que prepara o estado | psi >:\")\n",
        "display(qc.draw('mpl'))"
      ],
      "metadata": {
        "colab": {
          "base_uri": "https://localhost:8080/",
          "height": 208
        },
        "id": "JbfUPmF1yzlc",
        "outputId": "d1d3710c-c1b9-49eb-ec75-09d87744cff4"
      },
      "execution_count": 52,
      "outputs": [
        {
          "output_type": "stream",
          "name": "stdout",
          "text": [
            "Circuito que prepara o estado | psi >:\n"
          ]
        },
        {
          "output_type": "display_data",
          "data": {
            "text/plain": [
              "<Figure size 519.897x200.667 with 1 Axes>"
            ],
            "image/png": "[encoded data removed]"
          },
          "metadata": {}
        }
      ]
    },
    {
      "cell_type": "code",
      "source": [
        "# Experimento\n",
        "medida = qiskit_sampler(qc, shots = 2**8, backend = FakeBrisbane())\n",
        "print(f\"Medida: {medida}\")\n",
        "\n",
        "resultado = medida[0]\n",
        "print(f\"Resultado: {resultado}\")\n",
        "\n",
        "prob_plus = resultado.get('0', 0) / sum(resultado.values())\n",
        "print(f\"Probabilidade de medir |0>: {prob_plus}\")\n",
        "prob_minus = resultado.get('1', 0) / sum(resultado.values())\n",
        "print(f\"Probabilidade de medir |1>: {prob_minus}\")\n",
        "#\n",
        "\n",
        "plot_histogram(resultado)"
      ],
      "metadata": {
        "colab": {
          "base_uri": "https://localhost:8080/",
          "height": 576
        },
        "id": "YrIlgY3-2mCA",
        "outputId": "1fa723b6-640e-4d33-8777-0cc99faa49ef"
      },
      "execution_count": 53,
      "outputs": [
        {
          "output_type": "stream",
          "name": "stdout",
          "text": [
            "Medida: ({'1': 44, '0': 212}, PrimitiveResult([SamplerPubResult(data=DataBin(c=BitArray(<shape=(), num_shots=256, num_bits=1>)), metadata={'shots': 256, 'circuit_metadata': {}})], metadata={'version': 2}))\n",
            "Resultado: {'1': 44, '0': 212}\n",
            "Probabilidade de medir |0>: 0.828125\n",
            "Probabilidade de medir |1>: 0.171875\n"
          ]
        },
        {
          "output_type": "execute_result",
          "data": {
            "text/plain": [
              "<Figure size 640x480 with 1 Axes>"
            ],
            "image/png": "[encoded data removed]"
          },
          "metadata": {},
          "execution_count": 53
        }
      ]
    },
    {
      "cell_type": "code",
      "source": [
        "# Função\n",
        "\n",
        "def probabilidadeX_psi(th):\n",
        "    qc = QuantumCircuit(1,1)\n",
        "    qc.h(0)\n",
        "    qc.p(th,0)\n",
        "    qc.h(0)\n",
        "    qc.measure([0],[0])\n",
        "\n",
        "    medida = qiskit_sampler(qc, shots = 2**10, backend = FakeBrisbane())\n",
        "\n",
        "    resultado = medida[0]\n",
        "    prob_plus = resultado.get('0', 0) / sum(resultado.values())\n",
        "    prob_minus = resultado.get('1', 0) / sum(resultado.values())\n",
        "\n",
        "    return (prob_plus,prob_minus)"
      ],
      "metadata": {
        "id": "qivA7vFh220T"
      },
      "execution_count": 55,
      "outputs": []
    },
    {
      "cell_type": "code",
      "source": [
        "import matplotlib.pyplot as plt\n",
        "import numpy as np\n",
        "\n",
        "# Create a range of theta values\n",
        "theta_values = np.linspace(0, 2 * np.pi, 10)\n",
        "\n",
        "# Calculate the probability of measuring |0> for each theta value\n",
        "prob_plus, prob_minus = zip(*[probabilidadeX_psi(theta) for theta in theta_values])\n",
        "\n",
        "# Plot the results\n",
        "plt.plot(theta_values, prob_plus)\n",
        "plt.plot(theta_values, prob_minus)\n",
        "plt.ylim(0, 1)\n",
        "plt.xlabel(\"Theta (radianos)\")\n",
        "plt.ylabel(\"Probabilidade de medir |+> e |->\")\n",
        "plt.title(\"Probabilidade de medir |+> e |-> no estado |psi(theta)>\")\n",
        "plt.grid(True)\n",
        "plt.show()"
      ],
      "metadata": {
        "colab": {
          "base_uri": "https://localhost:8080/",
          "height": 472
        },
        "id": "m2Dn7Wys3Fg2",
        "outputId": "0f51bb21-dd0d-4b83-b2a6-faa463eaad1a"
      },
      "execution_count": 57,
      "outputs": [
        {
          "output_type": "display_data",
          "data": {
            "text/plain": [
              "<Figure size 640x480 with 1 Axes>"
            ],
            "image/png": "[encoded data removed]"
          },
          "metadata": {}
        }
      ]
    }
  ]
}